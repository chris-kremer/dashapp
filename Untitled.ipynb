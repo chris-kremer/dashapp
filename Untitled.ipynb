{
 "cells": [
  {
   "cell_type": "code",
   "execution_count": 2,
   "id": "2566f85d-0261-4f04-acd1-4264b4ae3a8d",
   "metadata": {},
   "outputs": [
    {
     "name": "stdout",
     "output_type": "stream",
     "text": [
      "Annika Anteil: 316.80 EUR\n"
     ]
    },
    {
     "data": {
      "text/plain": [
       "'Annika Anteil: 316.80 EUR'"
      ]
     },
     "execution_count": 2,
     "metadata": {},
     "output_type": "execute_result"
    }
   ],
   "source": [
    "# coding: utf-8\n",
    "\n",
    "import yfinance as yf\n",
    "import pandas as pd\n",
    "from datetime import datetime\n",
    "import warnings\n",
    "import logging\n",
    "import os\n",
    "\n",
    "# Suppress warnings\n",
    "warnings.filterwarnings('ignore')\n",
    "\n",
    "# Configure logging\n",
    "log_file = 'app.log'\n",
    "logging.basicConfig(level=logging.DEBUG, filename=log_file, filemode='w',\n",
    "                    format='%(name)s - %(levelname)s - %(message)s')\n",
    "\n",
    "# Define your portfolio\n",
    "portfolio = [\n",
    "    {\"Ticker\": \"URTH\", \"Quantity\": 480},\n",
    "    {\"Ticker\": \"WFC\", \"Quantity\": 400},\n",
    "    {\"Ticker\": \"HLBZF\", \"Quantity\": 185},\n",
    "    {\"Ticker\": \"C\", \"Quantity\": 340},\n",
    "    {\"Ticker\": \"BPAQF\", \"Quantity\": 2000},\n",
    "    {\"Ticker\": \"POAHF\", \"Quantity\": 150},\n",
    "    {\"Ticker\": \"EXV1.DE\", \"Quantity\": 284},\n",
    "    {\"Ticker\": \"1COV.DE\", \"Quantity\": 100},\n",
    "    {\"Ticker\": \"SPY\", \"Quantity\": 10},\n",
    "    {\"Ticker\": \"HYMTF\", \"Quantity\": 100},\n",
    "    {\"Ticker\": \"SHEL\", \"Quantity\": 75},\n",
    "    {\"Ticker\": \"DAX\", \"Quantity\": 6},\n",
    "    {\"Ticker\": \"PLTR\", \"Quantity\": 100},\n",
    "    {\"Ticker\": \"UQ2B.DU\", \"Quantity\": 5},\n",
    "    {\"Ticker\": \"DB\", \"Quantity\": 1},\n",
    "    {\"Ticker\": \"GS\", \"Quantity\": 9},\n",
    "    {\"Ticker\": \"MBG.DE\", \"Quantity\": 50},\n",
    "]\n",
    "\n",
    "cash_position = 17000  # Cash position in USD\n",
    "\n",
    "\n",
    "def fetch_current_prices(tickers):\n",
    "    prices = {}\n",
    "    for ticker in tickers:\n",
    "        try:\n",
    "            stock = yf.Ticker(ticker)\n",
    "            data = stock.history(period='1d')\n",
    "            if not data.empty and 'Close' in data.columns:\n",
    "                current_price = data['Close'].iloc[-1]\n",
    "                prices[ticker] = current_price\n",
    "                logging.debug(f\"Fetched {current_price} for {ticker}\")\n",
    "            else:\n",
    "                prices[ticker] = None\n",
    "                logging.warning(f\"No data returned for {ticker}\")\n",
    "        except Exception as e:\n",
    "            prices[ticker] = None\n",
    "            logging.error(f\"Error fetching data for {ticker}: {e}\")\n",
    "    return prices\n",
    "\n",
    "\n",
    "def calculate_portfolio_value(portfolio, prices, cash):\n",
    "    total_value = cash\n",
    "    for asset in portfolio:\n",
    "        ticker = asset[\"Ticker\"]\n",
    "        quantity = asset[\"Quantity\"]\n",
    "        price = prices.get(ticker)\n",
    "        if price is not None:\n",
    "            value = price * quantity\n",
    "            total_value += value\n",
    "            logging.debug(f\"{ticker}: {quantity} * {price} = {value}\")\n",
    "        else:\n",
    "            logging.warning(f\"Price for {ticker} is unavailable.\")\n",
    "    return total_value\n",
    "\n",
    "\n",
    "def display_annika_anteil():\n",
    "    tickers = [asset[\"Ticker\"] for asset in portfolio]\n",
    "    prices = fetch_current_prices(tickers)\n",
    "    total = calculate_portfolio_value(portfolio, prices, cash_position)\n",
    "\n",
    "    percentage = 0.141974937637508 / 100\n",
    "    percentage_of_total = total * percentage\n",
    "\n",
    "    result = f\"Annika Anteil: {percentage_of_total:,.2f} EUR\"\n",
    "\n",
    "    # Display the result in the notebook\n",
    "    print(result)\n",
    "    return result\n",
    "\n",
    "\n",
    "# Call the function in the notebook\n",
    "display_annika_anteil()"
   ]
  }
 ],
 "metadata": {
  "kernelspec": {
   "display_name": "Python 3 (ipykernel)",
   "language": "python",
   "name": "python3"
  },
  "language_info": {
   "codemirror_mode": {
    "name": "ipython",
    "version": 3
   },
   "file_extension": ".py",
   "mimetype": "text/x-python",
   "name": "python",
   "nbconvert_exporter": "python",
   "pygments_lexer": "ipython3",
   "version": "3.10.0"
  }
 },
 "nbformat": 4,
 "nbformat_minor": 5
}
