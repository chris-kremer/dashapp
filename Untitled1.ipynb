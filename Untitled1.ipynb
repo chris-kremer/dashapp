{
 "cells": [
  {
   "cell_type": "code",
   "execution_count": 5,
   "id": "06dc0202-ea83-4e26-a537-851c8f06dba0",
   "metadata": {},
   "outputs": [
    {
     "name": "stdout",
     "output_type": "stream",
     "text": [
      "hi\n"
     ]
    }
   ],
   "source": [
    "import requests\n",
    "from bs4 import BeautifulSoup\n",
    "\n",
    "def scrape_aer_articles(start_year, end_year):\n",
    "    base_url = \"https://www.aeaweb.org/journals/aer/issues\"\n",
    "    articles = []\n",
    "    for year in range(start_year, end_year + 1):\n",
    "        response = requests.get(f\"{base_url}/{year}\")\n",
    "        soup = BeautifulSoup(response.content, 'html.parser')\n",
    "        titles = soup.find_all('h2', class_='article-title')  # Adjust selector as needed\n",
    "        articles.extend([title.text.strip() for title in titles])\n",
    "    return articles\n",
    "\n",
    "aer_articles = scrape_aer_articles(2011, 2014)\n",
    "print(\"hi\")\n",
    "for article in aer_articles:\n",
    "    print(article)\n"
   ]
  }
 ],
 "metadata": {
  "kernelspec": {
   "display_name": "Python 3 (ipykernel)",
   "language": "python",
   "name": "python3"
  },
  "language_info": {
   "codemirror_mode": {
    "name": "ipython",
    "version": 3
   },
   "file_extension": ".py",
   "mimetype": "text/x-python",
   "name": "python",
   "nbconvert_exporter": "python",
   "pygments_lexer": "ipython3",
   "version": "3.10.0"
  }
 },
 "nbformat": 4,
 "nbformat_minor": 5
}
